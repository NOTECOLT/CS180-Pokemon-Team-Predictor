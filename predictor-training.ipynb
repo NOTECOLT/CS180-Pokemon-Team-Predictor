{
  "cells": [
    {
      "cell_type": "markdown",
      "metadata": {
        "id": "EgZjBst1-TO6"
      },
      "source": [
        "# Pokemon Team Predictor\n",
        "\n",
        "Authors:\n",
        "**Diego Eduardo A. Montenejo** (202005984)\n",
        "\n",
        "**Jayson Isaiah T. Tan** (202109224)\n",
        "\n",
        "This python notebook dives into the data preprocessing and model training stage of the project. You may also find the training and validation set accuracies of each of the three models.\n"
      ]
    },
    {
      "cell_type": "markdown",
      "metadata": {
        "id": "EWe9wjCkwNqb"
      },
      "source": [
        "# JSON to DataFrame Conversion"
      ]
    },
    {
      "cell_type": "code",
      "execution_count": 1,
      "metadata": {
        "colab": {
          "base_uri": "https://localhost:8080/"
        },
        "id": "bY50ni078adU",
        "outputId": "6a65d2e8-99b4-4a47-98a6-60e360fe7e8e"
      },
      "outputs": [
        {
          "output_type": "stream",
          "name": "stdout",
          "text": [
            "Mounted at /content/drive\n",
            "/content/drive/Shareddrives/CS180 ML Project/Implementation\n"
          ]
        }
      ],
      "source": [
        "#@title Mounting the Drive\n",
        "\n",
        "import os\n",
        "from google.colab import drive\n",
        "drive.mount('/content/drive')\n",
        "\n",
        "%cd \"/content/drive/Shareddrives/CS180 ML Project/Implementation/\""
      ]
    },
    {
      "cell_type": "code",
      "execution_count": 2,
      "metadata": {
        "id": "qQqXmGY1XU_S"
      },
      "outputs": [],
      "source": [
        "#@title Loading the Raw Dataset\n",
        "import pandas as pd\n",
        "import json\n",
        "import numpy as np\n",
        "\n",
        "# Read Raw JSON data and convert to DataFrame\n",
        "# NOTE TO SELF: You can also import teams.json from the Google Drive into the runtime storage if mounting doesnt work\n",
        "file_path = 'teams.json'\n",
        "with open(file_path, 'r', encoding=\"utf8\") as file:\n",
        "    file_content = file.read()\n",
        "\n",
        "data = json.loads(file_content)\n",
        "df = pd.json_normalize(data)"
      ]
    },
    {
      "cell_type": "markdown",
      "metadata": {
        "id": "YbWxbD6qwUnu"
      },
      "source": [
        "# Dataset Cleaning & Feature Creation\n",
        "The following code preprocesses the data by doing the following:\n",
        "- Drop any irrelevant battle formats\n",
        "- Drop both the `format` and `replays` columns\n",
        "- Multiply the number of rows by 6, and select each pokemon from each team to be a \"focus\" (pokemon whose items, abilities, and moves will be predicted) under the column `pkmn`.\n",
        "- Concatenate all other non-focus pokemon team members into a single string under column `team`,\n",
        "  - Delete all non-focus pokemon team members' items moves abilities on each row.\n",
        "- For the focus pokemon team member, concatenate all four of its moves into a single string under column `moves`.\n",
        "- One-hot encode the `moves` and `team` columns.\n",
        "  - `team` is one-hot encoded on the output dataframe `x`.\n",
        "  - `moves` is one-hot encoded on the output dataframe `y`.\n",
        "\n",
        "The dataframe is exported to csv."
      ]
    },
    {
      "cell_type": "code",
      "execution_count": 3,
      "metadata": {
        "colab": {
          "base_uri": "https://localhost:8080/"
        },
        "collapsed": true,
        "id": "oQ_lTN5jwFN_",
        "outputId": "ac0a09ed-fd06-4fd9-e0b0-384249b0de6a"
      },
      "outputs": [
        {
          "output_type": "stream",
          "name": "stdout",
          "text": [
            "0       Drednaw Garchomp IronBundle ChienPao Kilowattrel \n",
            "1       Pelipper Garchomp IronBundle ChienPao Kilowatt...\n",
            "2       Pelipper Drednaw IronBundle ChienPao Kilowattrel \n",
            "3         Pelipper Drednaw Garchomp ChienPao Kilowattrel \n",
            "4       Pelipper Drednaw Garchomp IronBundle Kilowattrel \n",
            "                              ...                        \n",
            "7741    Glimmora IronValiant RoaringMoon SamurottHisui...\n",
            "7742    Glimmora IronMoth RoaringMoon SamurottHisui Gh...\n",
            "7743    Glimmora IronMoth IronValiant SamurottHisui Gh...\n",
            "7744    Glimmora IronMoth IronValiant RoaringMoon Ghol...\n",
            "7745    Glimmora IronMoth IronValiant RoaringMoon Samu...\n",
            "Name: team, Length: 7746, dtype: object\n"
          ]
        }
      ],
      "source": [
        "#@title Initial Preprocessing\n",
        "\n",
        "# Drop unncessary rows and columns\n",
        "df = df[(df['format'] == 'gen9Gen 9 OU Archive') | (df['format'] == 'gen9OverUsed')]\n",
        "df = df.drop(columns=['format', 'replays'])\n",
        "df = df.rename(columns={'pokemon': 'json'})\n",
        "\n",
        "def remove_spacedash(x):\n",
        "  return x.replace(' ', '').replace('-', '')\n",
        "# Create new Features\n",
        "for i in range(6):\n",
        "    df[f'pkmn{i+1}'] = df['json'].apply(lambda x: x[i]['name'])\n",
        "    for j in range(4):\n",
        "        df[f'pkmn{i+1}-move{j+1}'] = df['json'].apply(lambda x: x[i]['moves'][j] if j < len(x[i]['moves']) else 'None')\n",
        "    df[f'pkmn{i+1}-ability'] = df['json'].apply(lambda x: x[i]['ability'] if not (x[i].get('ability') is None) else 'None')\n",
        "    df[f'pkmn{i+1}-item'] = df['json'].apply(lambda x: x[i]['item'] if not (x[i].get('item') is None) else 'None')\n",
        "\n",
        "    # Remove all dashes and spaces from all names (to prevent issues with vectorizer)\n",
        "    df[f'pkmn{i+1}'] = df[f'pkmn{i+1}'].apply(remove_spacedash)\n",
        "    for j in range(4):\n",
        "      df[f'pkmn{i+1}-move{j+1}'] = df[f'pkmn{i+1}-move{j+1}'].apply(remove_spacedash)\n",
        "    df[f'pkmn{i+1}-ability'] = df[f'pkmn{i+1}-ability'].apply(remove_spacedash)\n",
        "    df[f'pkmn{i+1}-item'] = df[f'pkmn{i+1}-item'].apply(remove_spacedash)\n",
        "\n",
        "# Drop original JSON and indices\n",
        "df.reset_index(drop=True, inplace=True)\n",
        "df = df.drop(columns=['json'])\n",
        "\n",
        "df.dropna(inplace=True)\n",
        "df = df.drop_duplicates()\n",
        "\n",
        "# Now that we have separate all the information of each pokemon and all their abilities,\n",
        "#   we must separate each pokemon into their own data entry for prediction\n",
        "\n",
        "# Create a row for each pokemon in each team (effectively multiplying the number of rows by 6)\n",
        "df = df.loc[df.index.repeat(6)].reset_index(drop=True)\n",
        "\n",
        "# Copy the attributes of the focus pokemon to separate features\n",
        "df['pkmn'] = df.apply(lambda x: x[f'pkmn{(x.name % 6) + 1}'], axis=1)\n",
        "df['ability'] = df.apply(lambda x: x[f'pkmn{(x.name % 6) + 1}-ability'], axis=1)\n",
        "df['item'] = df.apply(lambda x: x[f'pkmn{(x.name % 6) + 1}-item'], axis=1)\n",
        "\n",
        "# We will use Bag of Words to aggregate all the team members and moves, thus we must gather them in a single string\n",
        "def get_teammates(x):\n",
        "    other_pkmn = ''\n",
        "    for i in range(6):\n",
        "      if i == x.name % 6:\n",
        "        continue\n",
        "      other_pkmn += x[f'pkmn{i+1}'] + ' '\n",
        "    return other_pkmn\n",
        "\n",
        "def get_moves(x):\n",
        "  moves = ''\n",
        "  for i in range(4):\n",
        "    moves += x[f'pkmn{(x.name % 6) + 1}-move{i+1}'] + ' '\n",
        "  return moves\n",
        "\n",
        "df['team'] = df.apply(get_teammates, axis=1)\n",
        "print(df['team'])\n",
        "df['moves'] = df.apply(get_moves, axis=1)\n",
        "\n",
        "# Drop all the previous features\n",
        "def pkmn_names(x):\n",
        "  return f'pkmn{x}'\n",
        "\n",
        "def pkmn_abilities(x):\n",
        "  return f'pkmn{x}-ability'\n",
        "\n",
        "def pkmn_items(x):\n",
        "  return f'pkmn{x}-item'\n",
        "\n",
        "old_features = [f(x+1) for x in range(6) for f in (pkmn_names, pkmn_abilities, pkmn_items)] + [f'pkmn{i+1}-move{j+1}' for j in range(4) for i in range(6)]\n",
        "df = df.drop(columns=old_features)\n",
        "\n",
        "# Drop invalid names, easier to do it at this stage rather than earlier\n",
        "df = df.drop(df[~df.pkmn.str.isalnum()].index)\n",
        "\n",
        "# Uncomment this if you want to see the full dataframe:\n",
        "df.to_csv('raw_dataset.csv', index=False)"
      ]
    },
    {
      "cell_type": "code",
      "execution_count": 4,
      "metadata": {
        "colab": {
          "base_uri": "https://localhost:8080/"
        },
        "collapsed": true,
        "id": "ZoXvbjwViwxp",
        "outputId": "5695a2b0-73c1-4f8b-f5a8-02fe83874713"
      },
      "outputs": [
        {
          "output_type": "stream",
          "name": "stdout",
          "text": [
            "      focus_abomasnow  focus_alakazam  focus_alcremiesaltedcream  \\\n",
            "0                   0               0                          0   \n",
            "1                   0               0                          0   \n",
            "2                   0               0                          0   \n",
            "3                   0               0                          0   \n",
            "4                   0               0                          0   \n",
            "...               ...             ...                        ...   \n",
            "7741                0               0                          0   \n",
            "7742                0               0                          0   \n",
            "7743                0               0                          0   \n",
            "7744                0               0                          0   \n",
            "7745                0               0                          0   \n",
            "\n",
            "      focus_alomomola  focus_altaria  focus_altariamega  focus_amoonguss  \\\n",
            "0                   0              0                  0                0   \n",
            "1                   0              0                  0                0   \n",
            "2                   0              0                  0                0   \n",
            "3                   0              0                  0                0   \n",
            "4                   0              0                  0                0   \n",
            "...               ...            ...                ...              ...   \n",
            "7741                0              0                  0                0   \n",
            "7742                0              0                  0                0   \n",
            "7743                0              0                  0                0   \n",
            "7744                0              0                  0                0   \n",
            "7745                0              0                  0                0   \n",
            "\n",
            "      focus_ampharos  focus_annihilape  focus_appletun  ...  weavile  \\\n",
            "0                  0                 0               0  ...        0   \n",
            "1                  0                 0               0  ...        0   \n",
            "2                  0                 0               0  ...        0   \n",
            "3                  0                 0               0  ...        0   \n",
            "4                  0                 0               0  ...        0   \n",
            "...              ...               ...             ...  ...      ...   \n",
            "7741               0                 0               0  ...        0   \n",
            "7742               0                 0               0  ...        0   \n",
            "7743               0                 0               0  ...        0   \n",
            "7744               0                 0               0  ...        0   \n",
            "7745               0                 0               0  ...        0   \n",
            "\n",
            "      weezinggalar  wochien  zamazenta  zamazentacrowned  zapdos  zarude  \\\n",
            "0                0        0          0                 0       0       0   \n",
            "1                0        0          0                 0       0       0   \n",
            "2                0        0          0                 0       0       0   \n",
            "3                0        0          0                 0       0       0   \n",
            "4                0        0          0                 0       0       0   \n",
            "...            ...      ...        ...               ...     ...     ...   \n",
            "7741             0        0          0                 0       0       0   \n",
            "7742             0        0          0                 0       0       0   \n",
            "7743             0        0          0                 0       0       0   \n",
            "7744             0        0          0                 0       0       0   \n",
            "7745             0        0          0                 0       0       0   \n",
            "\n",
            "      zeraora  zoroark  zoroarkhisui  \n",
            "0           0        0             0  \n",
            "1           0        0             0  \n",
            "2           0        0             0  \n",
            "3           0        0             0  \n",
            "4           0        0             0  \n",
            "...       ...      ...           ...  \n",
            "7741        0        0             0  \n",
            "7742        0        0             0  \n",
            "7743        0        0             0  \n",
            "7744        0        0             0  \n",
            "7745        0        0             0  \n",
            "\n",
            "[7740 rows x 742 columns]\n"
          ]
        }
      ],
      "source": [
        "#@title One-Hot Encoding the Input\n",
        "from sklearn.feature_extraction.text import CountVectorizer\n",
        "\n",
        "# First, we Separate input x the original dataframe\n",
        "x = df.copy()[['pkmn', 'team']]\n",
        "\n",
        "# Renaming the contents of the pkmn column so that the focus pokemon is still discernable in the final model\n",
        "x['pkmn'] = \"focus_\" + x['pkmn']\n",
        "\n",
        "# Use a Count Vectorizer to vectorize the teams string and put them into separate\n",
        "x_vect = CountVectorizer()\n",
        "x_vect2 = CountVectorizer()\n",
        "x_doc_vec = x_vect.fit_transform(x['team'])\n",
        "x_doc_vec2 = x_vect2.fit_transform(x['pkmn'])\n",
        "\n",
        "\n",
        "team_vect = pd.DataFrame(x_doc_vec.toarray(), columns=x_vect.get_feature_names_out(), index=x.index)\n",
        "pkmn_vect = pd.DataFrame(x_doc_vec2.toarray(), columns=x_vect2.get_feature_names_out(), index=x.index)\n",
        "x = pd.concat([pkmn_vect, team_vect], axis=1)\n",
        "\n",
        "print(x)\n",
        "# Uncomment this if you want to see the full dataframe:\n",
        "x.to_csv('preprocessed_input.csv', index=False)"
      ]
    },
    {
      "cell_type": "code",
      "execution_count": 5,
      "metadata": {
        "colab": {
          "base_uri": "https://localhost:8080/"
        },
        "id": "80LDiCw45fFn",
        "outputId": "d4539914-35f6-440a-d930-3d3e6be36569"
      },
      "outputs": [
        {
          "output_type": "stream",
          "name": "stdout",
          "text": [
            "             ability            item  \\\n",
            "0            Drizzle        DampRock   \n",
            "1          SwiftSwim       WhiteHerb   \n",
            "2          RoughSkin       FocusSash   \n",
            "3         QuarkDrive   BoosterEnergy   \n",
            "4        SwordofRuin  HeavyDutyBoots   \n",
            "...              ...             ...   \n",
            "7741      QuarkDrive   BoosterEnergy   \n",
            "7742      QuarkDrive   BoosterEnergy   \n",
            "7743  Protosynthesis   BoosterEnergy   \n",
            "7744       Sharpness  HeavyDutyBoots   \n",
            "7745      GoodasGold     CovertCloak   \n",
            "\n",
            "                                               moves  \n",
            "0                         Surf Roost Uturn KnockOff   \n",
            "1       ShellSmash Liquidation StoneEdge IceSpinner   \n",
            "2             StealthRock Spikes Earthquake Outrage   \n",
            "3                 HydroPump FreezeDry IceBeam Uturn   \n",
            "4        SwordsDance SacredSword IcicleCrash Crunch   \n",
            "...                                              ...  \n",
            "7741  FieryDance SludgeWave DazzlingGleam TeraBlast   \n",
            "7742   CloseCombat ShadowSneak KnockOff SwordsDance   \n",
            "7743     DragonDance Earthquake Acrobatics KnockOff   \n",
            "7744       Encore SacredSword CeaselessEdge AquaJet   \n",
            "7745     DazzlingGleam ShadowBall NastyPlot Recover   \n",
            "\n",
            "[7740 rows x 3 columns]\n"
          ]
        }
      ],
      "source": [
        "#@title Separating the Output\n",
        "\n",
        "# Separate the output y from the original dataframe\n",
        "y = df.copy()[['ability', 'item', 'moves']]\n",
        "\n",
        "# Uncomment this if you want to see the full dataframe:\n",
        "y.to_csv('preprocessed_output.csv', index=False)\n",
        "\n",
        "# Uncomment to check the abilities and items present:\n",
        "print(y)"
      ]
    },
    {
      "cell_type": "code",
      "execution_count": 6,
      "metadata": {
        "id": "7DeyW5dm4sxu"
      },
      "outputs": [],
      "source": [
        "#@title Splitting the Dataset\n",
        "from sklearn.model_selection import train_test_split\n",
        "\n",
        "# Create train test split\n",
        "x_train, x_test, y_train, y_test = train_test_split(x, y, train_size=0.7, test_size=0.3, random_state=33123)"
      ]
    },
    {
      "cell_type": "code",
      "execution_count": 7,
      "metadata": {
        "id": "NusWFaTeiJ_u"
      },
      "outputs": [],
      "source": [
        "# @title Creating separate Ability, Item, Move Output Dataframes\n",
        "# 109 abilities listed\n",
        "# 181 items listed\n",
        "\n",
        "y_train_ability = y_train[\"ability\"]\n",
        "y_train_item = y_train[\"item\"]\n",
        "\n",
        "y_test_ability = y_test[\"ability\"]\n",
        "y_test_item = y_test[\"item\"]\n",
        "\n",
        "y_train_moves = y_train.drop(axis=1, labels=['ability', 'item'], inplace=False)\n",
        "y_test_moves = y_test.drop(axis=1, labels=['ability', 'item'], inplace=False)\n",
        "\n",
        "# creating a copy of x_test and x_train for testing with moves\n",
        "x_train_moves = x_train.copy()\n",
        "x_test_moves = x_test.copy()\n",
        "\n",
        "# Multiplying each row by 4 (for each move)\n",
        "x_train_moves = x_train_moves.loc[x_train_moves.index.repeat(4)].reset_index(drop=True)\n",
        "x_test_moves = x_test_moves.loc[x_test_moves.index.repeat(4)].reset_index(drop=True)\n",
        "\n",
        "y_train_moves = y_train_moves.loc[y_train_moves.index.repeat(4)].reset_index(drop=True)\n",
        "y_test_moves = y_test_moves.loc[y_test_moves.index.repeat(4)].reset_index(drop=True)\n",
        "\n",
        "# Function zeroes out all moves except for 1 in each row, depending on the index of the row\n",
        "y_train_moves = y_train_moves.apply(lambda x: x['moves'].split()[x.name % 4], axis=1)\n",
        "y_test_moves = y_test_moves.apply(lambda x: x['moves'].split()[x.name % 4], axis=1)\n",
        "\n",
        "# Uncomment me to see the full dataframe (warning: huge)\n",
        "y_train_moves.to_csv('y_train_moves.csv', index=False)"
      ]
    },
    {
      "cell_type": "code",
      "execution_count": null,
      "metadata": {
        "id": "3F9fCn4Jj-UW"
      },
      "outputs": [],
      "source": [
        "# Uncomment to see the shape of y_train_ability and x_train\n",
        "\n",
        "#print(y_train_ability.shape)\n",
        "#print(x_train.shape)"
      ]
    },
    {
      "cell_type": "markdown",
      "metadata": {
        "id": "3OgRZfGX41St"
      },
      "source": [
        "# Training the Model\n",
        "For our Machine Learning Model, we use three separate Complement Naive Bayes models in order to predict the abilities, items, and moves of a pokemon given their team members. Based on the structure of our data, we found that Multinomial Naive Bayes was appropriate to use for the model, and on testing, Complement Naive Bayes performed better."
      ]
    },
    {
      "cell_type": "code",
      "execution_count": 8,
      "metadata": {
        "colab": {
          "base_uri": "https://localhost:8080/",
          "height": 75
        },
        "id": "CzzZr0Zz40zI",
        "outputId": "50475648-b245-47f4-957d-a5b9e4e32b5f"
      },
      "outputs": [
        {
          "output_type": "execute_result",
          "data": {
            "text/plain": [
              "ComplementNB(alpha=1, force_alpha=True)"
            ],
            "text/html": [
              "<style>#sk-container-id-1 {color: black;background-color: white;}#sk-container-id-1 pre{padding: 0;}#sk-container-id-1 div.sk-toggleable {background-color: white;}#sk-container-id-1 label.sk-toggleable__label {cursor: pointer;display: block;width: 100%;margin-bottom: 0;padding: 0.3em;box-sizing: border-box;text-align: center;}#sk-container-id-1 label.sk-toggleable__label-arrow:before {content: \"▸\";float: left;margin-right: 0.25em;color: #696969;}#sk-container-id-1 label.sk-toggleable__label-arrow:hover:before {color: black;}#sk-container-id-1 div.sk-estimator:hover label.sk-toggleable__label-arrow:before {color: black;}#sk-container-id-1 div.sk-toggleable__content {max-height: 0;max-width: 0;overflow: hidden;text-align: left;background-color: #f0f8ff;}#sk-container-id-1 div.sk-toggleable__content pre {margin: 0.2em;color: black;border-radius: 0.25em;background-color: #f0f8ff;}#sk-container-id-1 input.sk-toggleable__control:checked~div.sk-toggleable__content {max-height: 200px;max-width: 100%;overflow: auto;}#sk-container-id-1 input.sk-toggleable__control:checked~label.sk-toggleable__label-arrow:before {content: \"▾\";}#sk-container-id-1 div.sk-estimator input.sk-toggleable__control:checked~label.sk-toggleable__label {background-color: #d4ebff;}#sk-container-id-1 div.sk-label input.sk-toggleable__control:checked~label.sk-toggleable__label {background-color: #d4ebff;}#sk-container-id-1 input.sk-hidden--visually {border: 0;clip: rect(1px 1px 1px 1px);clip: rect(1px, 1px, 1px, 1px);height: 1px;margin: -1px;overflow: hidden;padding: 0;position: absolute;width: 1px;}#sk-container-id-1 div.sk-estimator {font-family: monospace;background-color: #f0f8ff;border: 1px dotted black;border-radius: 0.25em;box-sizing: border-box;margin-bottom: 0.5em;}#sk-container-id-1 div.sk-estimator:hover {background-color: #d4ebff;}#sk-container-id-1 div.sk-parallel-item::after {content: \"\";width: 100%;border-bottom: 1px solid gray;flex-grow: 1;}#sk-container-id-1 div.sk-label:hover label.sk-toggleable__label {background-color: #d4ebff;}#sk-container-id-1 div.sk-serial::before {content: \"\";position: absolute;border-left: 1px solid gray;box-sizing: border-box;top: 0;bottom: 0;left: 50%;z-index: 0;}#sk-container-id-1 div.sk-serial {display: flex;flex-direction: column;align-items: center;background-color: white;padding-right: 0.2em;padding-left: 0.2em;position: relative;}#sk-container-id-1 div.sk-item {position: relative;z-index: 1;}#sk-container-id-1 div.sk-parallel {display: flex;align-items: stretch;justify-content: center;background-color: white;position: relative;}#sk-container-id-1 div.sk-item::before, #sk-container-id-1 div.sk-parallel-item::before {content: \"\";position: absolute;border-left: 1px solid gray;box-sizing: border-box;top: 0;bottom: 0;left: 50%;z-index: -1;}#sk-container-id-1 div.sk-parallel-item {display: flex;flex-direction: column;z-index: 1;position: relative;background-color: white;}#sk-container-id-1 div.sk-parallel-item:first-child::after {align-self: flex-end;width: 50%;}#sk-container-id-1 div.sk-parallel-item:last-child::after {align-self: flex-start;width: 50%;}#sk-container-id-1 div.sk-parallel-item:only-child::after {width: 0;}#sk-container-id-1 div.sk-dashed-wrapped {border: 1px dashed gray;margin: 0 0.4em 0.5em 0.4em;box-sizing: border-box;padding-bottom: 0.4em;background-color: white;}#sk-container-id-1 div.sk-label label {font-family: monospace;font-weight: bold;display: inline-block;line-height: 1.2em;}#sk-container-id-1 div.sk-label-container {text-align: center;}#sk-container-id-1 div.sk-container {/* jupyter's `normalize.less` sets `[hidden] { display: none; }` but bootstrap.min.css set `[hidden] { display: none !important; }` so we also need the `!important` here to be able to override the default hidden behavior on the sphinx rendered scikit-learn.org. See: https://github.com/scikit-learn/scikit-learn/issues/21755 */display: inline-block !important;position: relative;}#sk-container-id-1 div.sk-text-repr-fallback {display: none;}</style><div id=\"sk-container-id-1\" class=\"sk-top-container\"><div class=\"sk-text-repr-fallback\"><pre>ComplementNB(alpha=1, force_alpha=True)</pre><b>In a Jupyter environment, please rerun this cell to show the HTML representation or trust the notebook. <br />On GitHub, the HTML representation is unable to render, please try loading this page with nbviewer.org.</b></div><div class=\"sk-container\" hidden><div class=\"sk-item\"><div class=\"sk-estimator sk-toggleable\"><input class=\"sk-toggleable__control sk-hidden--visually\" id=\"sk-estimator-id-1\" type=\"checkbox\" checked><label for=\"sk-estimator-id-1\" class=\"sk-toggleable__label sk-toggleable__label-arrow\">ComplementNB</label><div class=\"sk-toggleable__content\"><pre>ComplementNB(alpha=1, force_alpha=True)</pre></div></div></div></div></div>"
            ]
          },
          "metadata": {},
          "execution_count": 8
        }
      ],
      "source": [
        "#@title Fitting the Model to the Ability Dataset\n",
        "from sklearn.naive_bayes import ComplementNB\n",
        "\n",
        "# Ended up using ComplementNB since it's supposed to correct the \"assumptions\" Multinomial does.\n",
        "# Our input is like a DTM already so ComplementNB/MultinomialNB should be appropriate\n",
        "\n",
        "# A model is made just to get the amount of values needed to fill the matrix of prior probabilities\n",
        "ability_fakecnb = ComplementNB(alpha=1.0, force_alpha='warn', fit_prior=True)\n",
        "ability_fakecnb.fit(x_train, y_train_ability)\n",
        "\n",
        "ability_priors = np.full((ability_fakecnb.class_count_.shape[0],), 0.01)\n",
        "\n",
        "ability_cnb = ComplementNB(alpha=1, force_alpha=True, fit_prior=True)\n",
        "ability_cnb.fit(x_train, y_train_ability)"
      ]
    },
    {
      "cell_type": "code",
      "execution_count": 10,
      "metadata": {
        "colab": {
          "base_uri": "https://localhost:8080/"
        },
        "id": "dwucrPG1Ndii",
        "outputId": "51b9eb10-cf93-406d-8418-b02d23b3d555"
      },
      "outputs": [
        {
          "output_type": "stream",
          "name": "stdout",
          "text": [
            "Accuracy on training data\n",
            "0.9377999261720192\n",
            "Accuracy on test data\n",
            "0.9254952627045651\n",
            "                  precision    recall  f1-score   support\n",
            "\n",
            "    Adaptability     1.0000    0.5000    0.6667         4\n",
            "      AngerPoint     1.0000    0.0000    0.0000         1\n",
            "       BadDreams     0.6000    1.0000    0.7500         3\n",
            "      BattleBond     1.0000    0.4000    0.5714         5\n",
            "     BeadsofRuin     0.9375    1.0000    0.9677        15\n",
            "         Berserk     1.0000    1.0000    1.0000         1\n",
            "           Blaze     0.3846    0.9091    0.5405        11\n",
            "     Bulletproof     1.0000    0.5000    0.6667         4\n",
            "     Chlorophyll     0.5000    1.0000    0.6667         2\n",
            "       ClearBody     1.0000    0.0000    0.0000         5\n",
            "       CloudNine     1.0000    0.0000    0.0000         1\n",
            "        Comatose     1.0000    0.0000    0.0000         1\n",
            "     Competitive     1.0000    1.0000    1.0000         2\n",
            "        Contrary     0.9375    1.0000    0.9677        15\n",
            "       Corrosion     0.6667    1.0000    0.8000         2\n",
            "         CudChew     1.0000    0.0000    0.0000         1\n",
            "      CursedBody     0.7500    0.3000    0.4286        10\n",
            "       CuteCharm     1.0000    0.0000    0.0000         2\n",
            "          Dancer     1.0000    0.3333    0.5000         3\n",
            " DauntlessShield     1.0000    1.0000    1.0000        24\n",
            "         Defiant     0.7692    0.9091    0.8333        11\n",
            "        Disguise     1.0000    1.0000    1.0000         1\n",
            "         Drizzle     0.9000    1.0000    0.9474        18\n",
            "         Drought     0.9655    1.0000    0.9825        28\n",
            "         DrySkin     0.4000    1.0000    0.5714         2\n",
            "       EarlyBird     1.0000    1.0000    1.0000         1\n",
            "      EarthEater     1.0000    1.0000    1.0000        12\n",
            "   ElectricSurge     1.0000    1.0000    1.0000         6\n",
            "Electromorphosis     1.0000    1.0000    1.0000         1\n",
            "       FlameBody     0.9773    0.9773    0.9773        44\n",
            "      FlareBoost     1.0000    0.0000    0.0000         1\n",
            "       FlashFire     0.7600    0.9500    0.8444        20\n",
            "           Frisk     1.0000    0.0000    0.0000         1\n",
            "      GoodasGold     0.9832    1.0000    0.9915       117\n",
            "     GrassySurge     1.0000    0.9286    0.9630        14\n",
            "        GuardDog     1.0000    0.0000    0.0000         1\n",
            "            Guts     0.6667    1.0000    0.8000         6\n",
            "       Heatproof     1.0000    0.6667    0.8000         3\n",
            "       HugePower     0.9333    1.0000    0.9655        14\n",
            "       Hydration     1.0000    1.0000    1.0000         9\n",
            "     HyperCutter     1.0000    0.0000    0.0000         1\n",
            "         IceBody     0.3333    0.2500    0.2857         4\n",
            "       IceScales     1.0000    1.0000    1.0000         1\n",
            "        Illusion     1.0000    1.0000    1.0000         8\n",
            "        Imposter     1.0000    1.0000    1.0000        15\n",
            "     Infiltrator     0.8788    1.0000    0.9355        58\n",
            "      InnerFocus     1.0000    1.0000    1.0000         1\n",
            "        Insomnia     1.0000    0.0000    0.0000         2\n",
            "      Intimidate     1.0000    0.7941    0.8852        34\n",
            "        IronFist     0.5000    1.0000    0.6667         2\n",
            "       Justified     1.0000    1.0000    1.0000         5\n",
            "        Levitate     0.9877    0.9756    0.9816        82\n",
            "          Libero     1.0000    0.0000    0.0000        17\n",
            "     LiquidVoice     1.0000    0.0000    0.0000         1\n",
            "     MagicBounce     1.0000    1.0000    1.0000        34\n",
            "      MagicGuard     0.8182    1.0000    0.9000         9\n",
            "        Magician     1.0000    1.0000    1.0000         6\n",
            "      MagnetPull     0.9000    1.0000    0.9474         9\n",
            "     MarvelScale     1.0000    0.0000    0.0000         1\n",
            "       Merciless     1.0000    0.0000    0.0000         1\n",
            "   Mind&#39;sEye     1.0000    1.0000    1.0000         7\n",
            "     MirrorArmor     1.0000    0.0000    0.0000         2\n",
            "     MoldBreaker     0.8889    0.7273    0.8000        11\n",
            "           Moxie     0.7857    0.9167    0.8462        12\n",
            "      Multiscale     0.9833    1.0000    0.9916        59\n",
            "   MyceliumMight     1.0000    1.0000    1.0000         3\n",
            "     NaturalCure     0.7917    0.9500    0.8636        20\n",
            "       Oblivious     1.0000    0.0000    0.0000         2\n",
            "        Overcoat     1.0000    1.0000    1.0000         7\n",
            "        Overgrow     0.6667    0.1429    0.2353        14\n",
            "        OwnTempo     0.4000    0.4000    0.4000         5\n",
            "      Pickpocket     1.0000    0.0000    0.0000         3\n",
            "        Pixilate     1.0000    0.7500    0.8571         4\n",
            "      PoisonHeal     0.9118    0.9118    0.9118        34\n",
            "     PoisonPoint     1.0000    0.0000    0.0000         1\n",
            " PoisonPuppeteer     1.0000    1.0000    1.0000         1\n",
            "     PoisonTouch     1.0000    0.5000    0.6667         4\n",
            "       Prankster     1.0000    0.9286    0.9630        14\n",
            "        Pressure     0.9114    0.9600    0.9351        75\n",
            "      PrismArmor     1.0000    0.0000    0.0000         1\n",
            "         Protean     0.6250    0.9375    0.7500        32\n",
            "  Protosynthesis     0.9682    1.0000    0.9838       274\n",
            "    PsychicSurge     1.0000    1.0000    1.0000        14\n",
            "        PunkRock     1.0000    1.0000    1.0000         1\n",
            "   PurifyingSalt     1.0000    1.0000    1.0000        40\n",
            "      QuarkDrive     0.9828    1.0000    0.9913       171\n",
            "        RainDish     1.0000    0.0000    0.0000         1\n",
            "     Regenerator     0.9658    0.9792    0.9724       144\n",
            "           Ripen     0.0000    1.0000    0.0000         0\n",
            "        RockHead     1.0000    0.0000    0.0000         1\n",
            "       RoughSkin     0.9444    1.0000    0.9714        17\n",
            "        SandRush     0.6000    1.0000    0.7500         3\n",
            "      SandStream     0.8889    0.8889    0.8889         9\n",
            "       SapSipper     0.7500    0.7500    0.7500         4\n",
            "         Scrappy     1.0000    0.0000    0.0000         2\n",
            "       SeedSower     1.0000    1.0000    1.0000         3\n",
            "     SereneGrace     1.0000    0.7143    0.8333         7\n",
            "       Sharpness     1.0000    1.0000    1.0000        27\n",
            "        ShedSkin     1.0000    0.5000    0.6667         2\n",
            "      SheerForce     1.0000    0.0000    0.0000         1\n",
            "      ShellArmor     1.0000    0.5000    0.6667         2\n",
            "      ShieldDust     1.0000    1.0000    1.0000         7\n",
            "       SkillLink     0.8333    1.0000    0.9091         5\n",
            "       SlushRush     1.0000    1.0000    1.0000         1\n",
            "     SnowWarning     1.0000    1.0000    1.0000         3\n",
            "      SolarPower     1.0000    0.0000    0.0000         2\n",
            "       SolidRock     1.0000    0.0000    0.0000         1\n",
            "       SoulHeart     1.0000    1.0000    1.0000         7\n",
            "      Soundproof     0.0000    1.0000    0.0000         0\n",
            "      SpeedBoost     1.0000    1.0000    1.0000         7\n",
            "         Stamina     1.0000    1.0000    1.0000        14\n",
            "          Static     0.8462    1.0000    0.9167        11\n",
            "      StormDrain     0.7500    1.0000    0.8571         3\n",
            "          Sturdy     0.7857    0.7333    0.7586        15\n",
            " SupersweetSyrup     1.0000    0.0000    0.0000         1\n",
            " SupremeOverlord     1.0000    1.0000    1.0000       100\n",
            "           Swarm     1.0000    0.0000    0.0000         1\n",
            "       SweetVeil     1.0000    0.0000    0.0000         1\n",
            "       SwiftSwim     0.8889    1.0000    0.9412        24\n",
            "     SwordofRuin     1.0000    1.0000    1.0000        29\n",
            "     Synchronize     1.0000    1.0000    1.0000         5\n",
            "   TabletsofRuin     1.0000    1.0000    1.0000         3\n",
            "      Technician     0.9474    0.9730    0.9600        37\n",
            "       TeraShift     1.0000    1.0000    1.0000         3\n",
            " ThermalExchange     0.8889    1.0000    0.9412        24\n",
            "        ThickFat     0.7500    0.7500    0.7500         4\n",
            "      TintedLens     1.0000    1.0000    1.0000         4\n",
            "         Torrent     0.6667    0.4000    0.5000         5\n",
            "      ToxicChain     0.5000    1.0000    0.6667         1\n",
            "     ToxicDebris     1.0000    1.0000    1.0000        25\n",
            "           Trace     1.0000    1.0000    1.0000         1\n",
            "      Transistor     1.0000    1.0000    1.0000         1\n",
            "          Triage     1.0000    0.0000    0.0000         2\n",
            "         Unaware     0.8364    0.9583    0.8932        96\n",
            "        Unburden     0.5000    1.0000    0.6667         4\n",
            "      UnseenFist     1.0000    0.7500    0.8571         4\n",
            "    VesselofRuin     1.0000    1.0000    1.0000        52\n",
            "      VoltAbsorb     0.8000    0.6667    0.7273         6\n",
            "     WaterAbsorb     1.0000    0.6905    0.8169        42\n",
            "       WeakArmor     0.7000    0.4667    0.5600        15\n",
            "   WellBakedBody     1.0000    1.0000    1.0000         3\n",
            "       WindPower     1.0000    0.0000    0.0000         1\n",
            "       WindRider     1.0000    0.0000    0.0000         1\n",
            "      ZerotoHero     1.0000    1.0000    1.0000         4\n",
            "\n",
            "        accuracy                         0.9255      2322\n",
            "       macro avg     0.9049    0.6961    0.6682      2322\n",
            "    weighted avg     0.9376    0.9255    0.9124      2322\n",
            "\n"
          ]
        }
      ],
      "source": [
        "#@title Predicting the Ability of a Pokemon\n",
        "from sklearn import metrics\n",
        "\n",
        "# make class predictions for x_train using the predict() function\n",
        "y_train_ability_class = ability_cnb.predict(x_train)\n",
        "\n",
        "# make class predictions for x_test using the predict() function\n",
        "y_pred_ability_class = ability_cnb.predict(x_test)\n",
        "\n",
        "# calculate accuracy of class predictions\n",
        "print(\"Accuracy on training data\")\n",
        "print(metrics.accuracy_score(y_train_ability, y_train_ability_class))\n",
        "print(\"Accuracy on test data\")\n",
        "print(metrics.accuracy_score(y_test_ability, y_pred_ability_class))\n",
        "\n",
        "from sklearn.metrics import classification_report\n",
        "print(classification_report(y_test_ability, y_pred_ability_class, digits=4, zero_division=1.0))\n",
        "\n",
        "# Uncomment to check the probabilities for each class on the first sample in the training set:\n",
        "# ability_predictions = pd.DataFrame(ability_cnb.predict_proba(x_train)[0],index = ability_cnb.classes_).transpose()\n",
        "# ability_predictions.to_csv('ability_predictions.csv', index=False)\n",
        "# x_train.to_csv(\"x_train.csv\", index=False)"
      ]
    },
    {
      "cell_type": "code",
      "execution_count": 12,
      "metadata": {
        "colab": {
          "base_uri": "https://localhost:8080/",
          "height": 231
        },
        "id": "qzR-EyCLllID",
        "outputId": "3276a2a3-84f6-4450-e5ba-63954f710774"
      },
      "outputs": [
        {
          "output_type": "execute_result",
          "data": {
            "text/plain": [
              "ComplementNB(class_prior=array([0.01, 0.01, 0.01, 0.01, 0.01, 0.01, 0.01, 0.01, 0.01, 0.01, 0.01,\n",
              "       0.01, 0.01, 0.01, 0.01, 0.01, 0.01, 0.01, 0.01, 0.01, 0.01, 0.01,\n",
              "       0.01, 0.01, 0.01, 0.01, 0.01, 0.01, 0.01, 0.01, 0.01, 0.01, 0.01,\n",
              "       0.01, 0.01, 0.01, 0.01, 0.01, 0.01, 0.01, 0.01, 0.01, 0.01, 0.01,\n",
              "       0.01, 0.01, 0.01, 0.01, 0.01, 0.01, 0.01, 0.01, 0.01, 0.01, 0.01,\n",
              "       0.01, 0.01, 0.01, 0.01, 0.01, 0.01, 0.01, 0.01, 0.01, 0.01, 0.01,\n",
              "       0.01, 0.01, 0.01, 0.01, 0.01, 0.01, 0.01, 0.01, 0.01, 0.01, 0.01,\n",
              "       0.01, 0.01, 0.01, 0.01, 0.01, 0.01, 0.01, 0.01, 0.01, 0.01, 0.01,\n",
              "       0.01, 0.01, 0.01, 0.01, 0.01, 0.01, 0.01, 0.01, 0.01, 0.01, 0.01,\n",
              "       0.01, 0.01, 0.01, 0.01, 0.01, 0.01]))"
            ],
            "text/html": [
              "<style>#sk-container-id-2 {color: black;background-color: white;}#sk-container-id-2 pre{padding: 0;}#sk-container-id-2 div.sk-toggleable {background-color: white;}#sk-container-id-2 label.sk-toggleable__label {cursor: pointer;display: block;width: 100%;margin-bottom: 0;padding: 0.3em;box-sizing: border-box;text-align: center;}#sk-container-id-2 label.sk-toggleable__label-arrow:before {content: \"▸\";float: left;margin-right: 0.25em;color: #696969;}#sk-container-id-2 label.sk-toggleable__label-arrow:hover:before {color: black;}#sk-container-id-2 div.sk-estimator:hover label.sk-toggleable__label-arrow:before {color: black;}#sk-container-id-2 div.sk-toggleable__content {max-height: 0;max-width: 0;overflow: hidden;text-align: left;background-color: #f0f8ff;}#sk-container-id-2 div.sk-toggleable__content pre {margin: 0.2em;color: black;border-radius: 0.25em;background-color: #f0f8ff;}#sk-container-id-2 input.sk-toggleable__control:checked~div.sk-toggleable__content {max-height: 200px;max-width: 100%;overflow: auto;}#sk-container-id-2 input.sk-toggleable__control:checked~label.sk-toggleable__label-arrow:before {content: \"▾\";}#sk-container-id-2 div.sk-estimator input.sk-toggleable__control:checked~label.sk-toggleable__label {background-color: #d4ebff;}#sk-container-id-2 div.sk-label input.sk-toggleable__control:checked~label.sk-toggleable__label {background-color: #d4ebff;}#sk-container-id-2 input.sk-hidden--visually {border: 0;clip: rect(1px 1px 1px 1px);clip: rect(1px, 1px, 1px, 1px);height: 1px;margin: -1px;overflow: hidden;padding: 0;position: absolute;width: 1px;}#sk-container-id-2 div.sk-estimator {font-family: monospace;background-color: #f0f8ff;border: 1px dotted black;border-radius: 0.25em;box-sizing: border-box;margin-bottom: 0.5em;}#sk-container-id-2 div.sk-estimator:hover {background-color: #d4ebff;}#sk-container-id-2 div.sk-parallel-item::after {content: \"\";width: 100%;border-bottom: 1px solid gray;flex-grow: 1;}#sk-container-id-2 div.sk-label:hover label.sk-toggleable__label {background-color: #d4ebff;}#sk-container-id-2 div.sk-serial::before {content: \"\";position: absolute;border-left: 1px solid gray;box-sizing: border-box;top: 0;bottom: 0;left: 50%;z-index: 0;}#sk-container-id-2 div.sk-serial {display: flex;flex-direction: column;align-items: center;background-color: white;padding-right: 0.2em;padding-left: 0.2em;position: relative;}#sk-container-id-2 div.sk-item {position: relative;z-index: 1;}#sk-container-id-2 div.sk-parallel {display: flex;align-items: stretch;justify-content: center;background-color: white;position: relative;}#sk-container-id-2 div.sk-item::before, #sk-container-id-2 div.sk-parallel-item::before {content: \"\";position: absolute;border-left: 1px solid gray;box-sizing: border-box;top: 0;bottom: 0;left: 50%;z-index: -1;}#sk-container-id-2 div.sk-parallel-item {display: flex;flex-direction: column;z-index: 1;position: relative;background-color: white;}#sk-container-id-2 div.sk-parallel-item:first-child::after {align-self: flex-end;width: 50%;}#sk-container-id-2 div.sk-parallel-item:last-child::after {align-self: flex-start;width: 50%;}#sk-container-id-2 div.sk-parallel-item:only-child::after {width: 0;}#sk-container-id-2 div.sk-dashed-wrapped {border: 1px dashed gray;margin: 0 0.4em 0.5em 0.4em;box-sizing: border-box;padding-bottom: 0.4em;background-color: white;}#sk-container-id-2 div.sk-label label {font-family: monospace;font-weight: bold;display: inline-block;line-height: 1.2em;}#sk-container-id-2 div.sk-label-container {text-align: center;}#sk-container-id-2 div.sk-container {/* jupyter's `normalize.less` sets `[hidden] { display: none; }` but bootstrap.min.css set `[hidden] { display: none !important; }` so we also need the `!important` here to be able to override the default hidden behavior on the sphinx rendered scikit-learn.org. See: https://github.com/scikit-learn/scikit-learn/issues/21755 */display: inline-block !important;position: relative;}#sk-container-id-2 div.sk-text-repr-fallback {display: none;}</style><div id=\"sk-container-id-2\" class=\"sk-top-container\"><div class=\"sk-text-repr-fallback\"><pre>ComplementNB(class_prior=array([0.01, 0.01, 0.01, 0.01, 0.01, 0.01, 0.01, 0.01, 0.01, 0.01, 0.01,\n",
              "       0.01, 0.01, 0.01, 0.01, 0.01, 0.01, 0.01, 0.01, 0.01, 0.01, 0.01,\n",
              "       0.01, 0.01, 0.01, 0.01, 0.01, 0.01, 0.01, 0.01, 0.01, 0.01, 0.01,\n",
              "       0.01, 0.01, 0.01, 0.01, 0.01, 0.01, 0.01, 0.01, 0.01, 0.01, 0.01,\n",
              "       0.01, 0.01, 0.01, 0.01, 0.01, 0.01, 0.01, 0.01, 0.01, 0.01, 0.01,\n",
              "       0.01, 0.01, 0.01, 0.01, 0.01, 0.01, 0.01, 0.01, 0.01, 0.01, 0.01,\n",
              "       0.01, 0.01, 0.01, 0.01, 0.01, 0.01, 0.01, 0.01, 0.01, 0.01, 0.01,\n",
              "       0.01, 0.01, 0.01, 0.01, 0.01, 0.01, 0.01, 0.01, 0.01, 0.01, 0.01,\n",
              "       0.01, 0.01, 0.01, 0.01, 0.01, 0.01, 0.01, 0.01, 0.01, 0.01, 0.01,\n",
              "       0.01, 0.01, 0.01, 0.01, 0.01, 0.01]))</pre><b>In a Jupyter environment, please rerun this cell to show the HTML representation or trust the notebook. <br />On GitHub, the HTML representation is unable to render, please try loading this page with nbviewer.org.</b></div><div class=\"sk-container\" hidden><div class=\"sk-item\"><div class=\"sk-estimator sk-toggleable\"><input class=\"sk-toggleable__control sk-hidden--visually\" id=\"sk-estimator-id-2\" type=\"checkbox\" checked><label for=\"sk-estimator-id-2\" class=\"sk-toggleable__label sk-toggleable__label-arrow\">ComplementNB</label><div class=\"sk-toggleable__content\"><pre>ComplementNB(class_prior=array([0.01, 0.01, 0.01, 0.01, 0.01, 0.01, 0.01, 0.01, 0.01, 0.01, 0.01,\n",
              "       0.01, 0.01, 0.01, 0.01, 0.01, 0.01, 0.01, 0.01, 0.01, 0.01, 0.01,\n",
              "       0.01, 0.01, 0.01, 0.01, 0.01, 0.01, 0.01, 0.01, 0.01, 0.01, 0.01,\n",
              "       0.01, 0.01, 0.01, 0.01, 0.01, 0.01, 0.01, 0.01, 0.01, 0.01, 0.01,\n",
              "       0.01, 0.01, 0.01, 0.01, 0.01, 0.01, 0.01, 0.01, 0.01, 0.01, 0.01,\n",
              "       0.01, 0.01, 0.01, 0.01, 0.01, 0.01, 0.01, 0.01, 0.01, 0.01, 0.01,\n",
              "       0.01, 0.01, 0.01, 0.01, 0.01, 0.01, 0.01, 0.01, 0.01, 0.01, 0.01,\n",
              "       0.01, 0.01, 0.01, 0.01, 0.01, 0.01, 0.01, 0.01, 0.01, 0.01, 0.01,\n",
              "       0.01, 0.01, 0.01, 0.01, 0.01, 0.01, 0.01, 0.01, 0.01, 0.01, 0.01,\n",
              "       0.01, 0.01, 0.01, 0.01, 0.01, 0.01]))</pre></div></div></div></div></div>"
            ]
          },
          "metadata": {},
          "execution_count": 12
        }
      ],
      "source": [
        "#@title Fitting the Model to the Held Item Dataset\n",
        "from sklearn.naive_bayes import ComplementNB\n",
        "\n",
        "# A model is made just to get the amount of values needed to fill the matrix of prior probabilities\n",
        "\n",
        "item_fakecnb = ComplementNB(alpha=1.0, force_alpha='warn', fit_prior=True)\n",
        "item_fakecnb.fit(x_train, y_train_item)\n",
        "\n",
        "item_priors = np.full((item_fakecnb.class_count_.shape[0],), 0.01)\n",
        "\n",
        "item_cnb = ComplementNB(class_prior=item_priors)\n",
        "item_cnb.fit(x_train, y_train_item)"
      ]
    },
    {
      "cell_type": "code",
      "execution_count": 14,
      "metadata": {
        "colab": {
          "base_uri": "https://localhost:8080/"
        },
        "id": "YY5Jj50HllIE",
        "outputId": "bd5ca968-55e0-475c-c7f7-ade8592ae251"
      },
      "outputs": [
        {
          "output_type": "stream",
          "name": "stdout",
          "text": [
            "Accuracy on training data\n",
            "0.6244001476559616\n",
            "Accuracy on test data\n",
            "0.5602928509905254\n",
            "                       precision    recall  f1-score   support\n",
            "\n",
            "           AguavBerry     1.0000    0.0000    0.0000         2\n",
            "           AirBalloon     0.4286    0.4545    0.4412        66\n",
            "          Altarianite     1.0000    0.0000    0.0000         1\n",
            "          ApicotBerry     1.0000    0.0000    0.0000         2\n",
            "          AssaultVest     0.3913    0.2500    0.3051        72\n",
            "              BigRoot     1.0000    0.0000    0.0000         1\n",
            "         BlackGlasses     0.1818    0.0769    0.1081        26\n",
            "          BlackSludge     0.5000    0.1304    0.2069        23\n",
            "        BoosterEnergy     0.5502    0.7784    0.6447       176\n",
            "        CharizarditeY     1.0000    0.0000    0.0000         1\n",
            "          ChestoBerry     0.4000    0.2222    0.2857         9\n",
            "           ChoiceBand     0.4038    0.3962    0.4000       106\n",
            "          ChoiceScarf     0.4684    0.3109    0.3737       119\n",
            "          ChoiceSpecs     0.4593    0.5741    0.5103       108\n",
            "          ChopleBerry     0.0000    0.0000    0.0000         1\n",
            "          ColburBerry     0.0000    0.0000    0.0000         7\n",
            "      CornerstoneMask     0.0000    1.0000    0.0000         0\n",
            "          CovertCloak     0.3333    0.0385    0.0690        26\n",
            "          CustapBerry     1.0000    0.0000    0.0000         4\n",
            "             DampRock     0.4286    0.9375    0.5882        16\n",
            "           DragonFang     1.0000    0.0000    0.0000         3\n",
            "          EjectButton     0.6429    0.3913    0.4865        23\n",
            "            EjectPack     1.0000    0.0000    0.0000        16\n",
            "         ElectricSeed     1.0000    0.0000    0.0000         7\n",
            "             Eviolite     0.5806    0.6923    0.6316        26\n",
            "           ExpertBelt     0.0000    0.0000    0.0000         7\n",
            "             FlameOrb     0.6250    0.8333    0.7143         6\n",
            "            FocusSash     0.5690    0.7674    0.6535        86\n",
            "            GrassiumZ     0.0000    1.0000    0.0000         0\n",
            "           GrassySeed     0.5294    0.6923    0.6000        13\n",
            "      HearthflameMask     1.0000    0.6667    0.8000         3\n",
            "             HeatRock     0.7353    0.9259    0.8197        27\n",
            "       HeavyDutyBoots     0.6183    0.7103    0.6611       390\n",
            "              IcyRock     1.0000    0.0000    0.0000         3\n",
            "            Latiasite     1.0000    0.0000    0.0000         1\n",
            "            Leftovers     0.6292    0.6453    0.6372       547\n",
            "Leftovers/RockyHelmet     1.0000    0.0000    0.0000         1\n",
            "           LeppaBerry     0.4000    0.6667    0.5000         3\n",
            "              LifeOrb     0.4000    0.1587    0.2273        63\n",
            "            LightClay     0.5789    0.4231    0.4889        26\n",
            "           LoadedDice     0.5152    0.7083    0.5965        24\n",
            "             LumBerry     0.3333    0.0476    0.0833        21\n",
            "           MachoBrace     1.0000    0.0000    0.0000         1\n",
            "           MentalHerb     0.0000    0.0000    0.0000         7\n",
            "            MetalCoat     1.0000    0.0000    0.0000         1\n",
            "            Metronome     1.0000    0.0000    0.0000         1\n",
            "          MiracleSeed     0.0000    1.0000    0.0000         0\n",
            "           MirrorHerb     0.0000    1.0000    0.0000         0\n",
            "           MuscleBand     1.0000    0.0000    0.0000         1\n",
            "          MysticWater     1.0000    0.0000    0.0000         3\n",
            "         NeverMeltIce     1.0000    0.0000    0.0000         2\n",
            "                 None     1.0000    0.0000    0.0000         2\n",
            "            PowerHerb     1.0000    0.0000    0.0000         1\n",
            "       ProtectivePads     1.0000    0.0000    0.0000         3\n",
            "          PsychicSeed     0.3939    1.0000    0.5652        13\n",
            "        PunchingGlove     1.0000    0.6667    0.8000         3\n",
            "            QuickClaw     1.0000    0.3750    0.5455         8\n",
            "              RedCard     1.0000    0.0000    0.0000        12\n",
            "          RockyHelmet     0.4632    0.5867    0.5176        75\n",
            "            Sablenite     1.0000    1.0000    1.0000         1\n",
            "        SafetyGoggles     1.0000    0.0000    0.0000         1\n",
            "            ShedShell     1.0000    0.0000    0.0000         2\n",
            "           ShucaBerry     1.0000    0.0000    0.0000         6\n",
            "            SilkScarf     0.0000    0.0000    0.0000         1\n",
            "          SitrusBerry     0.6061    0.6667    0.6349        30\n",
            "          Slowbronite     1.0000    0.0000    0.0000         1\n",
            "           SmoothRock     0.0000    0.0000    0.0000         3\n",
            "             SpellTag     1.0000    0.0000    0.0000         1\n",
            "      TerrainExtender     0.6000    0.6000    0.6000        15\n",
            "          ThroatSpray     0.7500    0.7500    0.7500         4\n",
            "             ToxicOrb     0.8611    0.9118    0.8857        34\n",
            "       WeaknessPolicy     0.2000    0.2000    0.2000         5\n",
            "       WellspringMask     1.0000    1.0000    1.0000        16\n",
            "            WhiteHerb     1.0000    0.0000    0.0000         1\n",
            "             WideLens     1.0000    0.8000    0.8889         5\n",
            "          WiseGlasses     1.0000    0.0000    0.0000         1\n",
            "\n",
            "             accuracy                         0.5603      2322\n",
            "            macro avg     0.6655    0.3297    0.2661      2322\n",
            "         weighted avg     0.5644    0.5603    0.5322      2322\n",
            "\n"
          ]
        }
      ],
      "source": [
        "#@title Predicting the Held Item of a Pokemon\n",
        "from sklearn import metrics\n",
        "\n",
        "# make class predictions for x_train using the predict() function\n",
        "y_train_item_class = item_cnb.predict(x_train)\n",
        "\n",
        "# make class predictions for x_test using the predict() function\n",
        "y_pred_item_class = item_cnb.predict(x_test)\n",
        "\n",
        "# calculate accuracy of class predictions\n",
        "print(\"Accuracy on training data\")\n",
        "print(metrics.accuracy_score(y_train_item, y_train_item_class))\n",
        "print(\"Accuracy on test data\")\n",
        "print(metrics.accuracy_score(y_test_item, y_pred_item_class))\n",
        "\n",
        "from sklearn.metrics import classification_report\n",
        "print(classification_report(y_test_item, y_pred_item_class, digits=4, zero_division=1.0))"
      ]
    },
    {
      "cell_type": "code",
      "execution_count": 15,
      "metadata": {
        "colab": {
          "base_uri": "https://localhost:8080/",
          "height": 252
        },
        "id": "QqYUrrb6uKFz",
        "outputId": "41fed438-2314-477a-9846-7b6389ee364e"
      },
      "outputs": [
        {
          "output_type": "execute_result",
          "data": {
            "text/plain": [
              "ComplementNB(class_prior=array([0.01, 0.01, 0.01, 0.01, 0.01, 0.01, 0.01, 0.01, 0.01, 0.01, 0.01,\n",
              "       0.01, 0.01, 0.01, 0.01, 0.01, 0.01, 0.01, 0.01, 0.01, 0.01, 0.01,\n",
              "       0.01, 0.01, 0.01, 0.01, 0.01, 0.01, 0.01, 0.01, 0.01, 0.01, 0.01,\n",
              "       0.01, 0.01, 0.01, 0.01, 0.01, 0.01, 0.01, 0.01, 0.01, 0.01, 0.01,\n",
              "       0.01, 0.01, 0.01, 0.01, 0.01, 0.01, 0.01, 0.01, 0.01, 0.01, 0.01,\n",
              "       0.01, 0.01, 0.01, 0.01, 0.01, 0.01, 0.01, 0.01, 0.0...\n",
              "       0.01, 0.01, 0.01, 0.01, 0.01, 0.01, 0.01, 0.01, 0.01, 0.01, 0.01,\n",
              "       0.01, 0.01, 0.01, 0.01, 0.01, 0.01, 0.01, 0.01, 0.01, 0.01, 0.01,\n",
              "       0.01, 0.01, 0.01, 0.01, 0.01, 0.01, 0.01, 0.01, 0.01, 0.01, 0.01,\n",
              "       0.01, 0.01, 0.01, 0.01, 0.01, 0.01, 0.01, 0.01, 0.01, 0.01, 0.01,\n",
              "       0.01, 0.01, 0.01, 0.01, 0.01, 0.01, 0.01, 0.01, 0.01, 0.01, 0.01,\n",
              "       0.01, 0.01, 0.01, 0.01, 0.01, 0.01, 0.01, 0.01, 0.01, 0.01, 0.01,\n",
              "       0.01, 0.01, 0.01, 0.01, 0.01, 0.01, 0.01, 0.01, 0.01, 0.01, 0.01,\n",
              "       0.01, 0.01, 0.01]))"
            ],
            "text/html": [
              "<style>#sk-container-id-3 {color: black;background-color: white;}#sk-container-id-3 pre{padding: 0;}#sk-container-id-3 div.sk-toggleable {background-color: white;}#sk-container-id-3 label.sk-toggleable__label {cursor: pointer;display: block;width: 100%;margin-bottom: 0;padding: 0.3em;box-sizing: border-box;text-align: center;}#sk-container-id-3 label.sk-toggleable__label-arrow:before {content: \"▸\";float: left;margin-right: 0.25em;color: #696969;}#sk-container-id-3 label.sk-toggleable__label-arrow:hover:before {color: black;}#sk-container-id-3 div.sk-estimator:hover label.sk-toggleable__label-arrow:before {color: black;}#sk-container-id-3 div.sk-toggleable__content {max-height: 0;max-width: 0;overflow: hidden;text-align: left;background-color: #f0f8ff;}#sk-container-id-3 div.sk-toggleable__content pre {margin: 0.2em;color: black;border-radius: 0.25em;background-color: #f0f8ff;}#sk-container-id-3 input.sk-toggleable__control:checked~div.sk-toggleable__content {max-height: 200px;max-width: 100%;overflow: auto;}#sk-container-id-3 input.sk-toggleable__control:checked~label.sk-toggleable__label-arrow:before {content: \"▾\";}#sk-container-id-3 div.sk-estimator input.sk-toggleable__control:checked~label.sk-toggleable__label {background-color: #d4ebff;}#sk-container-id-3 div.sk-label input.sk-toggleable__control:checked~label.sk-toggleable__label {background-color: #d4ebff;}#sk-container-id-3 input.sk-hidden--visually {border: 0;clip: rect(1px 1px 1px 1px);clip: rect(1px, 1px, 1px, 1px);height: 1px;margin: -1px;overflow: hidden;padding: 0;position: absolute;width: 1px;}#sk-container-id-3 div.sk-estimator {font-family: monospace;background-color: #f0f8ff;border: 1px dotted black;border-radius: 0.25em;box-sizing: border-box;margin-bottom: 0.5em;}#sk-container-id-3 div.sk-estimator:hover {background-color: #d4ebff;}#sk-container-id-3 div.sk-parallel-item::after {content: \"\";width: 100%;border-bottom: 1px solid gray;flex-grow: 1;}#sk-container-id-3 div.sk-label:hover label.sk-toggleable__label {background-color: #d4ebff;}#sk-container-id-3 div.sk-serial::before {content: \"\";position: absolute;border-left: 1px solid gray;box-sizing: border-box;top: 0;bottom: 0;left: 50%;z-index: 0;}#sk-container-id-3 div.sk-serial {display: flex;flex-direction: column;align-items: center;background-color: white;padding-right: 0.2em;padding-left: 0.2em;position: relative;}#sk-container-id-3 div.sk-item {position: relative;z-index: 1;}#sk-container-id-3 div.sk-parallel {display: flex;align-items: stretch;justify-content: center;background-color: white;position: relative;}#sk-container-id-3 div.sk-item::before, #sk-container-id-3 div.sk-parallel-item::before {content: \"\";position: absolute;border-left: 1px solid gray;box-sizing: border-box;top: 0;bottom: 0;left: 50%;z-index: -1;}#sk-container-id-3 div.sk-parallel-item {display: flex;flex-direction: column;z-index: 1;position: relative;background-color: white;}#sk-container-id-3 div.sk-parallel-item:first-child::after {align-self: flex-end;width: 50%;}#sk-container-id-3 div.sk-parallel-item:last-child::after {align-self: flex-start;width: 50%;}#sk-container-id-3 div.sk-parallel-item:only-child::after {width: 0;}#sk-container-id-3 div.sk-dashed-wrapped {border: 1px dashed gray;margin: 0 0.4em 0.5em 0.4em;box-sizing: border-box;padding-bottom: 0.4em;background-color: white;}#sk-container-id-3 div.sk-label label {font-family: monospace;font-weight: bold;display: inline-block;line-height: 1.2em;}#sk-container-id-3 div.sk-label-container {text-align: center;}#sk-container-id-3 div.sk-container {/* jupyter's `normalize.less` sets `[hidden] { display: none; }` but bootstrap.min.css set `[hidden] { display: none !important; }` so we also need the `!important` here to be able to override the default hidden behavior on the sphinx rendered scikit-learn.org. See: https://github.com/scikit-learn/scikit-learn/issues/21755 */display: inline-block !important;position: relative;}#sk-container-id-3 div.sk-text-repr-fallback {display: none;}</style><div id=\"sk-container-id-3\" class=\"sk-top-container\"><div class=\"sk-text-repr-fallback\"><pre>ComplementNB(class_prior=array([0.01, 0.01, 0.01, 0.01, 0.01, 0.01, 0.01, 0.01, 0.01, 0.01, 0.01,\n",
              "       0.01, 0.01, 0.01, 0.01, 0.01, 0.01, 0.01, 0.01, 0.01, 0.01, 0.01,\n",
              "       0.01, 0.01, 0.01, 0.01, 0.01, 0.01, 0.01, 0.01, 0.01, 0.01, 0.01,\n",
              "       0.01, 0.01, 0.01, 0.01, 0.01, 0.01, 0.01, 0.01, 0.01, 0.01, 0.01,\n",
              "       0.01, 0.01, 0.01, 0.01, 0.01, 0.01, 0.01, 0.01, 0.01, 0.01, 0.01,\n",
              "       0.01, 0.01, 0.01, 0.01, 0.01, 0.01, 0.01, 0.01, 0.0...\n",
              "       0.01, 0.01, 0.01, 0.01, 0.01, 0.01, 0.01, 0.01, 0.01, 0.01, 0.01,\n",
              "       0.01, 0.01, 0.01, 0.01, 0.01, 0.01, 0.01, 0.01, 0.01, 0.01, 0.01,\n",
              "       0.01, 0.01, 0.01, 0.01, 0.01, 0.01, 0.01, 0.01, 0.01, 0.01, 0.01,\n",
              "       0.01, 0.01, 0.01, 0.01, 0.01, 0.01, 0.01, 0.01, 0.01, 0.01, 0.01,\n",
              "       0.01, 0.01, 0.01, 0.01, 0.01, 0.01, 0.01, 0.01, 0.01, 0.01, 0.01,\n",
              "       0.01, 0.01, 0.01, 0.01, 0.01, 0.01, 0.01, 0.01, 0.01, 0.01, 0.01,\n",
              "       0.01, 0.01, 0.01, 0.01, 0.01, 0.01, 0.01, 0.01, 0.01, 0.01, 0.01,\n",
              "       0.01, 0.01, 0.01]))</pre><b>In a Jupyter environment, please rerun this cell to show the HTML representation or trust the notebook. <br />On GitHub, the HTML representation is unable to render, please try loading this page with nbviewer.org.</b></div><div class=\"sk-container\" hidden><div class=\"sk-item\"><div class=\"sk-estimator sk-toggleable\"><input class=\"sk-toggleable__control sk-hidden--visually\" id=\"sk-estimator-id-3\" type=\"checkbox\" checked><label for=\"sk-estimator-id-3\" class=\"sk-toggleable__label sk-toggleable__label-arrow\">ComplementNB</label><div class=\"sk-toggleable__content\"><pre>ComplementNB(class_prior=array([0.01, 0.01, 0.01, 0.01, 0.01, 0.01, 0.01, 0.01, 0.01, 0.01, 0.01,\n",
              "       0.01, 0.01, 0.01, 0.01, 0.01, 0.01, 0.01, 0.01, 0.01, 0.01, 0.01,\n",
              "       0.01, 0.01, 0.01, 0.01, 0.01, 0.01, 0.01, 0.01, 0.01, 0.01, 0.01,\n",
              "       0.01, 0.01, 0.01, 0.01, 0.01, 0.01, 0.01, 0.01, 0.01, 0.01, 0.01,\n",
              "       0.01, 0.01, 0.01, 0.01, 0.01, 0.01, 0.01, 0.01, 0.01, 0.01, 0.01,\n",
              "       0.01, 0.01, 0.01, 0.01, 0.01, 0.01, 0.01, 0.01, 0.0...\n",
              "       0.01, 0.01, 0.01, 0.01, 0.01, 0.01, 0.01, 0.01, 0.01, 0.01, 0.01,\n",
              "       0.01, 0.01, 0.01, 0.01, 0.01, 0.01, 0.01, 0.01, 0.01, 0.01, 0.01,\n",
              "       0.01, 0.01, 0.01, 0.01, 0.01, 0.01, 0.01, 0.01, 0.01, 0.01, 0.01,\n",
              "       0.01, 0.01, 0.01, 0.01, 0.01, 0.01, 0.01, 0.01, 0.01, 0.01, 0.01,\n",
              "       0.01, 0.01, 0.01, 0.01, 0.01, 0.01, 0.01, 0.01, 0.01, 0.01, 0.01,\n",
              "       0.01, 0.01, 0.01, 0.01, 0.01, 0.01, 0.01, 0.01, 0.01, 0.01, 0.01,\n",
              "       0.01, 0.01, 0.01, 0.01, 0.01, 0.01, 0.01, 0.01, 0.01, 0.01, 0.01,\n",
              "       0.01, 0.01, 0.01]))</pre></div></div></div></div></div>"
            ]
          },
          "metadata": {},
          "execution_count": 15
        }
      ],
      "source": [
        "#@title Fitting the Model to the Moves Dataset\n",
        "from sklearn.naive_bayes import ComplementNB\n",
        "\n",
        "# WARNING: This takes like 4-5 minutes\n",
        "# A model is made just to get the amount of values needed to fill the matrix of prior probabilities\n",
        "moves_fakecnb = ComplementNB(alpha=1.0, force_alpha='warn', fit_prior=True)\n",
        "moves_fakecnb.fit(x_train_moves, y_train_moves)\n",
        "\n",
        "moves_priors = np.full((moves_fakecnb.class_count_.shape[0],), 0.01)\n",
        "\n",
        "moves_cnb = ComplementNB(class_prior=moves_priors)\n",
        "moves_cnb.fit(x_train_moves, y_train_moves)"
      ]
    },
    {
      "cell_type": "code",
      "execution_count": null,
      "metadata": {
        "colab": {
          "base_uri": "https://localhost:8080/"
        },
        "id": "fbpeRnNSLze7",
        "outputId": "fbdd8be8-7b90-4634-b966-8f797aec49e0"
      },
      "outputs": [
        {
          "output_type": "stream",
          "name": "stdout",
          "text": [
            "Accuracy on training data:\n",
            "0.7332041343669251\n",
            "Accuracy on test data:\n",
            "0.6599913867355728\n"
          ]
        }
      ],
      "source": [
        "#@title Predicting the Moveset of a Pokemon\n",
        "\n",
        "\n",
        "# Uncomment to check the probabilities for each class on the first sample in the training set:\n",
        "#move_predictions = pd.DataFrame(moves_cnb.predict_proba(x_train_moves)[1],index = moves_cnb.classes_).transpose()\n",
        "#move_predictions.to_csv('moves_predictions.csv', index=False)\n",
        "#x_train_moves.to_csv(\"x_train_moves.csv\", index=False)\n",
        "#y_train_moves.to_csv(\"y_train_moves.csv\", index=False)\n",
        "\n",
        "\n",
        "# Due to the nature of the data and the predictions, the predict method of ComplementNB cannot be used since the top 4 moves should be predicted\n",
        "# and should not be done in a strict order\n",
        "# For this model, the accuracy is tested by checking if each move in the guessed moveset appears in the real moveset. If it does, increase the tally by 1\n",
        "# tally / {the total number of moves in the set} = accuracy of the model\n",
        "def move_accuracy_test(x_df, y_df):\n",
        "  move_predictions = pd.DataFrame(moves_cnb.predict_proba(x_df), columns=moves_cnb.classes_)\n",
        "  move_predictions.reset_index(inplace=True)\n",
        "\n",
        "  moves_true = []\n",
        "  for i in range(0, y_df.shape[0], 4):\n",
        "    moves_true.append(y_df[i:i+4].values)\n",
        "\n",
        "  moves_guesses = []\n",
        "  for index, row in move_predictions.iterrows():\n",
        "      if index % 4 == 0:\n",
        "        predicted_moves = row.sort_values(ascending=False).index\n",
        "        moves_guesses.append(predicted_moves[1:5])\n",
        "\n",
        "  tally = 0\n",
        "  for i in range(len(moves_guesses)):\n",
        "    for move in moves_guesses[i]:\n",
        "      if move in moves_true[i]:\n",
        "        tally += 1\n",
        "\n",
        "  score = tally / (len(moves_guesses) * 4)\n",
        "\n",
        "  return score\n",
        "\n",
        "print(\"Accuracy on training data:\")\n",
        "print(move_accuracy_test(x_train_moves, y_train_moves))\n",
        "print(\"Accuracy on test data:\")\n",
        "print(move_accuracy_test(x_test_moves, y_test_moves))\n"
      ]
    },
    {
      "cell_type": "markdown",
      "metadata": {
        "id": "APnfiAOWXzFd"
      },
      "source": [
        "# Exporting the Models"
      ]
    },
    {
      "cell_type": "code",
      "execution_count": null,
      "metadata": {
        "id": "e9CwTlJxXxKP"
      },
      "outputs": [],
      "source": [
        "#@title Export the Machine Learning Models\n",
        "\n",
        "import pickle\n",
        "\n",
        "# save the models to disk\n",
        "pickle.dump(ability_cnb, open('ability_cnb.sav', 'wb'))\n",
        "pickle.dump(item_cnb, open('item_cnb.sav', 'wb'))\n",
        "pickle.dump(moves_cnb, open('moves_cnb.sav', 'wb'))"
      ]
    },
    {
      "cell_type": "code",
      "execution_count": null,
      "metadata": {
        "colab": {
          "base_uri": "https://localhost:8080/"
        },
        "id": "o2usD004a2pH",
        "outputId": "efa83c11-1c1b-43b4-ced8-0aa62de58dbf",
        "cellView": "form"
      },
      "outputs": [
        {
          "name": "stdout",
          "output_type": "stream",
          "text": [
            "['Abomasnow' 'Alakazam' 'AlcremieSaltedCream' 'Alomomola' 'Altaria'\n",
            " 'AltariaMega' 'Amoonguss' 'Ampharos' 'Annihilape' 'Appletun' 'Araquanid'\n",
            " 'Arboliva' 'Arcanine' 'ArcanineHisui' 'Archaludon' 'Armarouge'\n",
            " 'ArticunoGalar' 'Avalugg' 'Azelf' 'Azumarill' 'Barraskewda' 'Basculegion'\n",
            " 'BasculegionF' 'Baxcalibur' 'Bellibolt' 'Bergmite' 'Bewear' 'Bisharp'\n",
            " 'Blaziken' 'Blissey' 'Brambleghast' 'Breloom' 'Bronzong' 'BruteBonnet'\n",
            " 'Cacturne' 'Carbink' 'Carvanha' 'Centiskorch' 'Ceruledge' 'Cetitan'\n",
            " 'Chandelure' 'Chansey' 'Charizard' 'CharizardMegaY' 'Chesnaught' 'ChiYu'\n",
            " 'ChienPao' 'Cinccino' 'Cinderace' 'Clefable' 'Clodsire' 'Cloyster'\n",
            " 'Cobalion' 'Comfey' 'Conkeldurr' 'Copperajah' 'Corviknight'\n",
            " 'Crabominable' 'Cramorant' 'Crawdaunt' 'Cresselia' 'Croagunk' 'Crocalor'\n",
            " 'Cryogonal' 'Cyclizar' 'Dachsbun' 'Darkrai' 'Darmanitan' 'DecidueyeHisui'\n",
            " 'Delibird' 'DeoxysDefense' 'DeoxysSpeed' 'Diancie' 'Dipplin' 'Ditto'\n",
            " 'Dolliv' 'Dondozo' 'Dragalge' 'Dragapult' 'Dragonair' 'Dragonite'\n",
            " 'Drednaw' 'Drifblim' 'Drifloon' 'Drowzee' 'Dudunsparce' 'Dugtrio'\n",
            " 'Dunsparce' 'Duraludon' 'Dusknoir' 'Eelektross' 'Electivire' 'Empoleon'\n",
            " 'Enamorus' 'EnamorusTherian' 'Espathra' 'Espeon' 'Excadrill'\n",
            " 'ExeggutorAlola' 'Farigiraf' 'Feraligatr' 'Ferrothorn' 'Fezandipiti'\n",
            " 'Flamigo' 'Floatzel' 'Florges' 'FlorgesWhite' 'FlutterMane' 'Flygon'\n",
            " 'Forretress' 'Fraxure' 'Froslass' 'Frosmoth' 'Gallade' 'Garchomp'\n",
            " 'Gardevoir' 'Garganacl' 'Gastrodon' 'GastrodonEast' 'Gengar' 'Gholdengo'\n",
            " 'Girafarig' 'Glaceon' 'Glastrier' 'Glimmet' 'Glimmora' 'Gliscor' 'Gogoat'\n",
            " 'Golduck' 'GolemAlola' 'Goodra' 'GoodraHisui' 'GougingFire'\n",
            " 'GourgeistSuper' 'Grafaiai' 'GreatTusk' 'Greninja' 'GreninjaBond'\n",
            " 'Grimmsnarl' 'Grookey' 'Gyarados' 'Hatterene' 'Hattrem' 'Hawlucha'\n",
            " 'Haxorus' 'Heatran' 'Heracross' 'Hippopotas' 'Hippowdon' 'Hitmontop'\n",
            " 'HoopaUnbound' 'Houndstone' 'Hydrapple' 'Hydreigon' 'Incineroar'\n",
            " 'Indeedee' 'IndeedeeF' 'Infernape' 'IronBoulder' 'IronBundle' 'IronCrown'\n",
            " 'IronHands' 'IronJugulis' 'IronLeaves' 'IronMoth' 'IronThorns'\n",
            " 'IronTreads' 'IronValiant' 'Jigglypuff' 'Jirachi' 'Keldeo' 'Kilowattrel'\n",
            " 'Kingambit' 'Kingdra' 'Kleavor' 'Klefki' 'Komala' 'Kommoo' 'Koraidon'\n",
            " 'Kyurem' 'LandorusTherian' 'Latias' 'LatiasMega' 'Latios' 'LatiosMega'\n",
            " 'Leafeon' 'Lechonk' 'Lilligant' 'LilligantHisui' 'Lokix' 'LopunnyMega'\n",
            " 'Lucario' 'Ludicolo' 'Luxray' 'Lycanroc' 'LycanrocDusk'\n",
            " 'LycanrocMidnight' 'Magearna' 'Magneton' 'Magnezone' 'Mamoswine'\n",
            " 'Manaphy' 'Mandibuzz' 'Mareanie' 'Masquerain' 'Maushold' 'MausholdFour'\n",
            " 'Medicham' 'Melmetal' 'Meowscarada' 'Metagross' 'Mew' 'Milotic' 'Mimikyu'\n",
            " 'Misdreavus' 'Mismagius' 'Moltres' 'MoltresGalar' 'Mudsdale' 'MukAlola'\n",
            " 'Munkidori' 'Naclstack' 'Natu' 'Necrozma' 'Ninetales' 'NinetalesAlola'\n",
            " 'Noivern' 'Numel' 'Ogerpon' 'OgerponCornerstone' 'OgerponHearthflame'\n",
            " 'OgerponWellspring' 'Okidogi' 'Oricorio' 'OricorioPomPom' 'OricorioSensu'\n",
            " 'Orthworm' 'Overqwil' 'Palafin' 'PalafinHero' 'Pawmot' 'Pawniard'\n",
            " 'Pecharunt' 'Pelipper' 'Pikachu' 'Pincurchin' 'Politoed' 'Poliwrath'\n",
            " 'Polteageist' 'PolteageistAntique' 'Primarina' 'Primeape' 'Pupitar'\n",
            " 'Quagsire' 'Quaquaval' 'Qwilfish' 'Rabsca' 'RagingBolt' 'Rapidash'\n",
            " 'Regieleki' 'Registeel' 'Reuniclus' 'Revavroom' 'Rhyperior' 'Ribombee'\n",
            " 'Rillaboom' 'RoaringMoon' 'Roserade' 'RotomFrost' 'RotomHeat' 'RotomWash'\n",
            " 'Sableye' 'SableyeMega' 'Salamence' 'Salazzle' 'SamurottHisui'\n",
            " 'Sandaconda' 'SandslashAlola' 'SandyShocks' 'SawsbuckWinter' 'Scizor'\n",
            " 'ScizorMega' 'Scovillain' 'ScreamTail' 'Seismitoad' 'Serperior' 'Seviper'\n",
            " 'ShayminSky' 'Shellder' 'ShellosEast' 'Shiftry' 'Sinistcha'\n",
            " 'SinistchaMasterpiece' 'Skarmory' 'Skeledirge' 'Slaking' 'Sliggoo'\n",
            " 'SlitherWing' 'Slowbro' 'SlowbroGalar' 'SlowbroMega' 'Slowking'\n",
            " 'SlowkingGalar' 'Smeargle' 'Smoliv' 'Sneasler' 'Spidops' 'Spiritomb'\n",
            " 'Squawkabilly' 'Staraptor' 'Starmie' 'Stunfisk' 'Sudowoodo' 'Suicune'\n",
            " 'Sunkern' 'Swalot' 'Sylveon' 'Talonflame' 'Tangrowth' 'TapuKoko'\n",
            " 'Tatsugiri' 'TatsugiriDroopy' 'TaurosPaldeaAqua' 'TaurosPaldeaBlaze'\n",
            " 'TaurosPaldeaFire' 'TaurosPaldeaWater' 'Tentacruel' 'Terapagos'\n",
            " 'TerapagosStellar' 'TerapagosTerastal' 'Thundurus' 'ThundurusTherian'\n",
            " 'TingLu' 'Tinkaton' 'Toedscool' 'Toedscruel' 'Togekiss' 'Torkoal'\n",
            " 'Tornadus' 'TornadusTherian' 'Torterra' 'Toxapex' 'Toxicroak'\n",
            " 'Toxtricity' 'ToxtricityLowKey' 'Tsareena' 'Tyranitar' 'Umbreon'\n",
            " 'Ursaluna' 'UrsalunaBloodmoon' 'Urshifu' 'UrshifuRapidStrike' 'Vaporeon'\n",
            " 'Veluza' 'Venusaur' 'Vespiquen' 'Victini' 'Volcanion' 'Volcarona'\n",
            " 'WalkingWake' 'Walrein' 'Weavile' 'WeezingGalar' 'WoChien' 'Zamazenta'\n",
            " 'ZamazentaCrowned' 'Zapdos' 'Zarude' 'Zeraora' 'Zoroark' 'ZoroarkHisui']\n"
          ]
        }
      ],
      "source": [
        "#@title Export the list of valid Pokemon names\n",
        "import csv\n",
        "\n",
        "valid_pkmn = df['pkmn'].unique()\n",
        "valid_pkmn.sort()\n",
        "print(valid_pkmn)\n",
        "\n",
        "with open('VALID_POKEMON.csv', 'w') as f:\n",
        "    write = csv.writer(f)\n",
        "    write.writerow(valid_pkmn)"
      ]
    }
  ],
  "metadata": {
    "colab": {
      "provenance": []
    },
    "kernelspec": {
      "display_name": "Python 3",
      "name": "python3"
    },
    "language_info": {
      "name": "python"
    }
  },
  "nbformat": 4,
  "nbformat_minor": 0
}